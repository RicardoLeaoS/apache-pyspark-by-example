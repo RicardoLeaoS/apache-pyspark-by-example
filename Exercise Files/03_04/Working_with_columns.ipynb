{
 "cells": [
  {
   "cell_type": "markdown",
   "metadata": {
    "colab_type": "text",
    "id": "8qf-TmnsBgXd"
   },
   "source": [
    "# Working with columns"
   ]
  },
  {
   "cell_type": "markdown",
   "metadata": {
    "colab_type": "text",
    "id": "Dd6t0uFzuR4X"
   },
   "source": [
    "## Download and install Spark"
   ]
  },
  {
   "cell_type": "code",
   "execution_count": 7,
   "metadata": {
    "colab": {},
    "colab_type": "code",
    "id": "tt7ZS1_wGgjn"
   },
   "outputs": [],
   "source": [
    "#!apt-get update\n",
    "#!apt-get install openjdk-8-jdk-headless -qq > /dev/null\n",
    "#!wget -q http://archive.apache.org/dist/spark/spark-2.3.1/spark-2.3.1-bin-hadoop2.7.tgz\n",
    "#!tar xf spark-2.3.1-bin-hadoop2.7.tgz\n",
    "#!pip install -q findspark"
   ]
  },
  {
   "cell_type": "markdown",
   "metadata": {
    "colab_type": "text",
    "id": "FEuEkV0BlzAD"
   },
   "source": [
    "## Setup environment"
   ]
  },
  {
   "cell_type": "code",
   "execution_count": 8,
   "metadata": {
    "colab": {},
    "colab_type": "code",
    "id": "sdOOq4twHN1K"
   },
   "outputs": [
    {
     "data": {
      "text/html": [
       "\n",
       "            <div>\n",
       "                <p><b>SparkSession - in-memory</b></p>\n",
       "                \n",
       "        <div>\n",
       "            <p><b>SparkContext</b></p>\n",
       "\n",
       "            <p><a href=\"http://192.168.0.19:4040\">Spark UI</a></p>\n",
       "\n",
       "            <dl>\n",
       "              <dt>Version</dt>\n",
       "                <dd><code>v3.0.1</code></dd>\n",
       "              <dt>Master</dt>\n",
       "                <dd><code>local[*]</code></dd>\n",
       "              <dt>AppName</dt>\n",
       "                <dd><code>pyspark-shell</code></dd>\n",
       "            </dl>\n",
       "        </div>\n",
       "        \n",
       "            </div>\n",
       "        "
      ],
      "text/plain": [
       "<pyspark.sql.session.SparkSession at 0x7f8a1f470f70>"
      ]
     },
     "execution_count": 8,
     "metadata": {},
     "output_type": "execute_result"
    }
   ],
   "source": [
    "import os\n",
    "#os.environ[\"JAVA_HOME\"] = \"/usr/lib/jvm/java-8-openjdk-amd64\"\n",
    "#os.environ[\"SPARK_HOME\"] = \"/content/spark-2.3.1-bin-hadoop2.7\"\n",
    "\n",
    "import findspark\n",
    "findspark.init()\n",
    "from pyspark import SparkContext\n",
    "sc = SparkContext.getOrCreate()\n",
    "\n",
    "import pyspark\n",
    "from pyspark.sql import SparkSession\n",
    "spark = SparkSession.builder.getOrCreate() \n",
    "spark"
   ]
  },
  {
   "cell_type": "markdown",
   "metadata": {
    "colab_type": "text",
    "id": "0ysUlfFrN5OD"
   },
   "source": [
    "## Downloading and preprocessing Chicago's Reported Crime Data"
   ]
  },
  {
   "cell_type": "code",
   "execution_count": 9,
   "metadata": {
    "colab": {},
    "colab_type": "code",
    "id": "FDtw5Hy3N-pV"
   },
   "outputs": [],
   "source": [
    "#!wget https://data.cityofchicago.org/api/views/ijzp-q8t2/rows.csv?accessType=DOWNLOAD\n",
    "#!ls -l"
   ]
  },
  {
   "cell_type": "code",
   "execution_count": 10,
   "metadata": {
    "colab": {},
    "colab_type": "code",
    "id": "v4P5mMONYyVd"
   },
   "outputs": [],
   "source": [
    "#!mv rows.csv\\?accessType\\=DOWNLOAD reported-crimes.csv\n",
    "#!ls -l"
   ]
  },
  {
   "cell_type": "code",
   "execution_count": 11,
   "metadata": {
    "colab": {},
    "colab_type": "code",
    "id": "9-1cK0nPNS95",
    "scrolled": true
   },
   "outputs": [
    {
     "name": "stdout",
     "output_type": "stream",
     "text": [
      "+-----------+-------------------+--------------------+----+------------------+--------------------+--------------------+------+--------+----+----+--------+------------+------------+----+-----------+-------------+--------------------+\n",
      "|Case Number|               Date|               Block|IUCR|      Primary Type|         Description|Location Description|Arrest|Domestic|Beat|Ward|FBI Code|X Coordinate|Y Coordinate|Year|   Latitude|    Longitude|            Location|\n",
      "+-----------+-------------------+--------------------+----+------------------+--------------------+--------------------+------+--------+----+----+--------+------------+------------+----+-----------+-------------+--------------------+\n",
      "|   JA366925|2001-01-01 11:00:00|     016XX E 86TH PL|1153|DECEPTIVE PRACTICE|FINANCIAL IDENTIT...|           RESIDENCE| false|   false|0412|   8|      11|        null|        null|2001|       null|         null|                null|\n",
      "|    G553545|2001-09-15 02:00:00|     013XX W POLK ST|0460|           BATTERY|              SIMPLE|              STREET| false|   false|1213|null|     08B|        null|        null|2001|       null|         null|                null|\n",
      "|    G666677|2001-11-02 18:30:00| 002XX W CONGRESS PW|0810|             THEFT|           OVER $500|               OTHER| false|   false|0131|null|      06|        null|        null|2001|       null|         null|                null|\n",
      "|    G749215|2001-12-15 02:00:00|    011XX N STATE ST|0460|           BATTERY|              SIMPLE|              STREET| false|   false|1824|null|     08B|        null|        null|2001|       null|         null|                null|\n",
      "|    G501252|2001-08-22 17:15:00|051XX W WASHINGTO...|0110|          HOMICIDE| FIRST DEGREE MURDER|              STREET|  true|   false|1533|  28|     01A|     1141945|     1900001|2001|41.88166577|-87.754245643|(41.88166577, -87...|\n",
      "+-----------+-------------------+--------------------+----+------------------+--------------------+--------------------+------+--------+----+----+--------+------------+------------+----+-----------+-------------+--------------------+\n",
      "only showing top 5 rows\n",
      "\n"
     ]
    }
   ],
   "source": [
    "from pyspark.sql.functions import to_timestamp,col,lit\n",
    "rc = spark.read.csv('../../reported-crimes.csv',header=True).withColumn('Date',to_timestamp(col('Date'),'MM/dd/yyyy hh:mm:ss a')).filter(col('Date') <= lit('2018-11-11'))\n",
    "rc.show(5)"
   ]
  },
  {
   "cell_type": "markdown",
   "metadata": {
    "colab_type": "text",
    "id": "mI_zYOVpf2yK"
   },
   "source": [
    "## Working with columns"
   ]
  },
  {
   "cell_type": "markdown",
   "metadata": {
    "colab_type": "text",
    "id": "WvOfJmzhf0kG"
   },
   "source": [
    "**Display only the first 5 rows of the column name IUCR **"
   ]
  },
  {
   "cell_type": "code",
   "execution_count": 12,
   "metadata": {
    "colab": {},
    "colab_type": "code",
    "id": "808f1HzwgDyh"
   },
   "outputs": [
    {
     "name": "stdout",
     "output_type": "stream",
     "text": [
      "+----+\n",
      "|IUCR|\n",
      "+----+\n",
      "|1153|\n",
      "|0460|\n",
      "|0810|\n",
      "|0460|\n",
      "|0110|\n",
      "+----+\n",
      "only showing top 5 rows\n",
      "\n"
     ]
    }
   ],
   "source": [
    "rc.select(\"IUCR\").show(5)"
   ]
  },
  {
   "cell_type": "code",
   "execution_count": 15,
   "metadata": {
    "colab": {},
    "colab_type": "code",
    "id": "PeeOFy5cgDRq"
   },
   "outputs": [
    {
     "name": "stdout",
     "output_type": "stream",
     "text": [
      "+----+\n",
      "|IUCR|\n",
      "+----+\n",
      "|1153|\n",
      "|0460|\n",
      "|0810|\n",
      "|0460|\n",
      "|0110|\n",
      "+----+\n",
      "only showing top 5 rows\n",
      "\n"
     ]
    }
   ],
   "source": [
    "rc.select(rc.IUCR).show(5)"
   ]
  },
  {
   "cell_type": "code",
   "execution_count": 16,
   "metadata": {
    "colab": {},
    "colab_type": "code",
    "id": "qLS_NEpEgDBJ"
   },
   "outputs": [
    {
     "name": "stdout",
     "output_type": "stream",
     "text": [
      "+----+\n",
      "|IUCR|\n",
      "+----+\n",
      "|1153|\n",
      "|0460|\n",
      "|0810|\n",
      "|0460|\n",
      "|0110|\n",
      "+----+\n",
      "only showing top 5 rows\n",
      "\n"
     ]
    }
   ],
   "source": [
    "rc.select(col(\"IUCR\")).show(5)"
   ]
  },
  {
   "cell_type": "markdown",
   "metadata": {
    "colab_type": "text",
    "id": "A4u5vp73gEtB"
   },
   "source": [
    "  **Display only the first 4 rows of the column names Case Number, Date and Arrest**"
   ]
  },
  {
   "cell_type": "code",
   "execution_count": 19,
   "metadata": {
    "colab": {},
    "colab_type": "code",
    "id": "ugRDxNwNgHNa"
   },
   "outputs": [
    {
     "name": "stdout",
     "output_type": "stream",
     "text": [
      "+-----------+-------------------+------+\n",
      "|Case Number|               Date|Arrest|\n",
      "+-----------+-------------------+------+\n",
      "|   JA366925|2001-01-01 11:00:00| false|\n",
      "|    G553545|2001-09-15 02:00:00| false|\n",
      "|    G666677|2001-11-02 18:30:00| false|\n",
      "|    G749215|2001-12-15 02:00:00| false|\n",
      "+-----------+-------------------+------+\n",
      "only showing top 4 rows\n",
      "\n"
     ]
    }
   ],
   "source": [
    "rc.select([\"Case Number\", \"Date\", \"Arrest\"]).show(4)"
   ]
  },
  {
   "cell_type": "code",
   "execution_count": 22,
   "metadata": {
    "colab": {},
    "colab_type": "code",
    "id": "T6w6-fN9gG_7"
   },
   "outputs": [
    {
     "name": "stdout",
     "output_type": "stream",
     "text": [
      "+-----------+-------------------+------+\n",
      "|Case Number|               Date|Arrest|\n",
      "+-----------+-------------------+------+\n",
      "|   JA366925|2001-01-01 11:00:00| false|\n",
      "|    G553545|2001-09-15 02:00:00| false|\n",
      "|    G666677|2001-11-02 18:30:00| false|\n",
      "|    G749215|2001-12-15 02:00:00| false|\n",
      "+-----------+-------------------+------+\n",
      "only showing top 4 rows\n",
      "\n"
     ]
    }
   ],
   "source": [
    "rc.select(\"Case Number\", \"Date\", \"Arrest\").show(4)"
   ]
  },
  {
   "cell_type": "code",
   "execution_count": null,
   "metadata": {
    "colab": {},
    "colab_type": "code",
    "id": "JkUF4yJFgG25"
   },
   "outputs": [],
   "source": []
  },
  {
   "cell_type": "code",
   "execution_count": null,
   "metadata": {
    "colab": {},
    "colab_type": "code",
    "id": "o3IB6VxLgGYi"
   },
   "outputs": [],
   "source": []
  },
  {
   "cell_type": "markdown",
   "metadata": {
    "colab_type": "text",
    "id": "GKnmLXJWr35c"
   },
   "source": [
    "** Add a column with name One, with entries all 1s **"
   ]
  },
  {
   "cell_type": "code",
   "execution_count": 23,
   "metadata": {
    "colab": {},
    "colab_type": "code",
    "id": "_OhKvPoItNtK"
   },
   "outputs": [],
   "source": [
    "from pyspark.sql.functions import lit"
   ]
  },
  {
   "cell_type": "code",
   "execution_count": 25,
   "metadata": {
    "colab": {},
    "colab_type": "code",
    "id": "dSA_eLl6uH3p"
   },
   "outputs": [
    {
     "name": "stdout",
     "output_type": "stream",
     "text": [
      "+-----------+-------------------+--------------------+----+------------------+--------------------+--------------------+------+--------+----+----+--------+------------+------------+----+-----------+-------------+--------------------+---+\n",
      "|Case Number|               Date|               Block|IUCR|      Primary Type|         Description|Location Description|Arrest|Domestic|Beat|Ward|FBI Code|X Coordinate|Y Coordinate|Year|   Latitude|    Longitude|            Location|One|\n",
      "+-----------+-------------------+--------------------+----+------------------+--------------------+--------------------+------+--------+----+----+--------+------------+------------+----+-----------+-------------+--------------------+---+\n",
      "|   JA366925|2001-01-01 11:00:00|     016XX E 86TH PL|1153|DECEPTIVE PRACTICE|FINANCIAL IDENTIT...|           RESIDENCE| false|   false|0412|   8|      11|        null|        null|2001|       null|         null|                null|  1|\n",
      "|    G553545|2001-09-15 02:00:00|     013XX W POLK ST|0460|           BATTERY|              SIMPLE|              STREET| false|   false|1213|null|     08B|        null|        null|2001|       null|         null|                null|  1|\n",
      "|    G666677|2001-11-02 18:30:00| 002XX W CONGRESS PW|0810|             THEFT|           OVER $500|               OTHER| false|   false|0131|null|      06|        null|        null|2001|       null|         null|                null|  1|\n",
      "|    G749215|2001-12-15 02:00:00|    011XX N STATE ST|0460|           BATTERY|              SIMPLE|              STREET| false|   false|1824|null|     08B|        null|        null|2001|       null|         null|                null|  1|\n",
      "|    G501252|2001-08-22 17:15:00|051XX W WASHINGTO...|0110|          HOMICIDE| FIRST DEGREE MURDER|              STREET|  true|   false|1533|  28|     01A|     1141945|     1900001|2001|41.88166577|-87.754245643|(41.88166577, -87...|  1|\n",
      "+-----------+-------------------+--------------------+----+------------------+--------------------+--------------------+------+--------+----+----+--------+------------+------------+----+-----------+-------------+--------------------+---+\n",
      "only showing top 5 rows\n",
      "\n"
     ]
    }
   ],
   "source": [
    "rc.withColumn(\"One\", lit(1)).show(5)"
   ]
  },
  {
   "cell_type": "code",
   "execution_count": 26,
   "metadata": {
    "colab": {},
    "colab_type": "code",
    "id": "LsweBKZNuHzA"
   },
   "outputs": [
    {
     "name": "stdout",
     "output_type": "stream",
     "text": [
      "+---+\n",
      "|One|\n",
      "+---+\n",
      "|  1|\n",
      "|  1|\n",
      "|  1|\n",
      "|  1|\n",
      "|  1|\n",
      "+---+\n",
      "only showing top 5 rows\n",
      "\n"
     ]
    }
   ],
   "source": [
    "rc.withColumn(\"One\", lit(1)).select(\"One\").show(5)"
   ]
  },
  {
   "cell_type": "markdown",
   "metadata": {
    "colab_type": "text",
    "id": "BKV2ymA2uI2h"
   },
   "source": [
    "** Remove the column IUCR **"
   ]
  },
  {
   "cell_type": "code",
   "execution_count": 28,
   "metadata": {
    "colab": {},
    "colab_type": "code",
    "id": "3wr2Q9djtXBV"
   },
   "outputs": [
    {
     "name": "stdout",
     "output_type": "stream",
     "text": [
      "+-----------+-------------------+--------------------+------------------+--------------------+--------------------+------+--------+----+----+--------+------------+------------+----+-----------+-------------+--------------------+\n",
      "|Case Number|               Date|               Block|      Primary Type|         Description|Location Description|Arrest|Domestic|Beat|Ward|FBI Code|X Coordinate|Y Coordinate|Year|   Latitude|    Longitude|            Location|\n",
      "+-----------+-------------------+--------------------+------------------+--------------------+--------------------+------+--------+----+----+--------+------------+------------+----+-----------+-------------+--------------------+\n",
      "|   JA366925|2001-01-01 11:00:00|     016XX E 86TH PL|DECEPTIVE PRACTICE|FINANCIAL IDENTIT...|           RESIDENCE| false|   false|0412|   8|      11|        null|        null|2001|       null|         null|                null|\n",
      "|    G553545|2001-09-15 02:00:00|     013XX W POLK ST|           BATTERY|              SIMPLE|              STREET| false|   false|1213|null|     08B|        null|        null|2001|       null|         null|                null|\n",
      "|    G666677|2001-11-02 18:30:00| 002XX W CONGRESS PW|             THEFT|           OVER $500|               OTHER| false|   false|0131|null|      06|        null|        null|2001|       null|         null|                null|\n",
      "|    G749215|2001-12-15 02:00:00|    011XX N STATE ST|           BATTERY|              SIMPLE|              STREET| false|   false|1824|null|     08B|        null|        null|2001|       null|         null|                null|\n",
      "|    G501252|2001-08-22 17:15:00|051XX W WASHINGTO...|          HOMICIDE| FIRST DEGREE MURDER|              STREET|  true|   false|1533|  28|     01A|     1141945|     1900001|2001|41.88166577|-87.754245643|(41.88166577, -87...|\n",
      "+-----------+-------------------+--------------------+------------------+--------------------+--------------------+------+--------+----+----+--------+------------+------------+----+-----------+-------------+--------------------+\n",
      "only showing top 5 rows\n",
      "\n"
     ]
    }
   ],
   "source": [
    "rc = rc.drop(\"IUCR\")\n",
    "\n",
    "rc.show(5)"
   ]
  },
  {
   "cell_type": "code",
   "execution_count": 29,
   "metadata": {
    "colab": {},
    "colab_type": "code",
    "id": "3HBJev2Ctdbo"
   },
   "outputs": [
    {
     "data": {
      "text/plain": [
       "['Case Number',\n",
       " 'Date',\n",
       " 'Block',\n",
       " 'Primary Type',\n",
       " 'Description',\n",
       " 'Location Description',\n",
       " 'Arrest',\n",
       " 'Domestic',\n",
       " 'Beat',\n",
       " 'Ward',\n",
       " 'FBI Code',\n",
       " 'X Coordinate',\n",
       " 'Y Coordinate',\n",
       " 'Year',\n",
       " 'Latitude',\n",
       " 'Longitude',\n",
       " 'Location']"
      ]
     },
     "execution_count": 29,
     "metadata": {},
     "output_type": "execute_result"
    }
   ],
   "source": [
    "rc.columns"
   ]
  },
  {
   "cell_type": "code",
   "execution_count": null,
   "metadata": {},
   "outputs": [],
   "source": []
  }
 ],
 "metadata": {
  "colab": {
   "name": "Working with columns.ipynb",
   "provenance": [],
   "version": "0.3.2"
  },
  "kernelspec": {
   "display_name": "Python 3",
   "language": "python",
   "name": "python3"
  },
  "language_info": {
   "codemirror_mode": {
    "name": "ipython",
    "version": 3
   },
   "file_extension": ".py",
   "mimetype": "text/x-python",
   "name": "python",
   "nbconvert_exporter": "python",
   "pygments_lexer": "ipython3",
   "version": "3.8.6"
  }
 },
 "nbformat": 4,
 "nbformat_minor": 2
}
