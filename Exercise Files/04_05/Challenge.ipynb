{
 "cells": [
  {
   "cell_type": "markdown",
   "metadata": {
    "colab_type": "text",
    "id": "8qf-TmnsBgXd"
   },
   "source": [
    "# Challenge"
   ]
  },
  {
   "cell_type": "markdown",
   "metadata": {
    "colab_type": "text",
    "id": "Dd6t0uFzuR4X"
   },
   "source": [
    "## Download and install Spark"
   ]
  },
  {
   "cell_type": "code",
   "execution_count": 1,
   "metadata": {
    "colab": {},
    "colab_type": "code",
    "id": "zToS5PqxBXpK"
   },
   "outputs": [
    {
     "name": "stdout",
     "output_type": "stream",
     "text": [
      "\u001b[31mChallenge.ipynb\u001b[m\u001b[m\r\n"
     ]
    }
   ],
   "source": [
    "!ls"
   ]
  },
  {
   "cell_type": "code",
   "execution_count": 2,
   "metadata": {
    "colab": {},
    "colab_type": "code",
    "id": "tt7ZS1_wGgjn"
   },
   "outputs": [],
   "source": [
    "#!apt-get update\n",
    "#!apt-get install openjdk-8-jdk-headless -qq > /dev/null\n",
    "#!wget -q http://archive.apache.org/dist/spark/spark-2.3.1/spark-2.3.1-bin-hadoop2.7.tgz\n",
    "#!tar xf spark-2.3.1-bin-hadoop2.7.tgz\n",
    "#!pip install -q findspark"
   ]
  },
  {
   "cell_type": "markdown",
   "metadata": {
    "colab_type": "text",
    "id": "FEuEkV0BlzAD"
   },
   "source": [
    "## Setup environment"
   ]
  },
  {
   "cell_type": "code",
   "execution_count": 3,
   "metadata": {
    "colab": {},
    "colab_type": "code",
    "id": "sdOOq4twHN1K"
   },
   "outputs": [
    {
     "data": {
      "text/html": [
       "\n",
       "            <div>\n",
       "                <p><b>SparkSession - in-memory</b></p>\n",
       "                \n",
       "        <div>\n",
       "            <p><b>SparkContext</b></p>\n",
       "\n",
       "            <p><a href=\"http://192.168.0.19:4040\">Spark UI</a></p>\n",
       "\n",
       "            <dl>\n",
       "              <dt>Version</dt>\n",
       "                <dd><code>v3.0.1</code></dd>\n",
       "              <dt>Master</dt>\n",
       "                <dd><code>local[*]</code></dd>\n",
       "              <dt>AppName</dt>\n",
       "                <dd><code>pyspark-shell</code></dd>\n",
       "            </dl>\n",
       "        </div>\n",
       "        \n",
       "            </div>\n",
       "        "
      ],
      "text/plain": [
       "<pyspark.sql.session.SparkSession at 0x7fa0e2a9fa60>"
      ]
     },
     "execution_count": 3,
     "metadata": {},
     "output_type": "execute_result"
    }
   ],
   "source": [
    "import os\n",
    "\n",
    "import findspark\n",
    "findspark.init()\n",
    "from pyspark import SparkContext\n",
    "sc = SparkContext.getOrCreate()\n",
    "\n",
    "import pyspark\n",
    "from pyspark.sql import SparkSession\n",
    "spark = SparkSession.builder.getOrCreate() \n",
    "spark"
   ]
  },
  {
   "cell_type": "markdown",
   "metadata": {
    "colab_type": "text",
    "id": "0ysUlfFrN5OD"
   },
   "source": [
    "## Downloading and preprocessing Chicago's Reported Crime Data"
   ]
  },
  {
   "cell_type": "code",
   "execution_count": null,
   "metadata": {
    "colab": {},
    "colab_type": "code",
    "id": "FDtw5Hy3N-pV"
   },
   "outputs": [],
   "source": [
    "#!wget https://data.cityofchicago.org/api/views/ijzp-q8t2/rows.csv?accessType=DOWNLOAD\n",
    "#!ls -l"
   ]
  },
  {
   "cell_type": "code",
   "execution_count": null,
   "metadata": {
    "colab": {},
    "colab_type": "code",
    "id": "v4P5mMONYyVd"
   },
   "outputs": [],
   "source": [
    "#!mv rows.csv\\?accessType\\=DOWNLOAD reported-crimes.csv\n",
    "#!ls -l"
   ]
  },
  {
   "cell_type": "code",
   "execution_count": 5,
   "metadata": {
    "colab": {},
    "colab_type": "code",
    "id": "9-1cK0nPNS95"
   },
   "outputs": [
    {
     "name": "stdout",
     "output_type": "stream",
     "text": [
      "-RECORD 0------------------------------------\n",
      " ID                   | 10224738             \n",
      " Case Number          | HY411648             \n",
      " Date                 | 2015-09-05 13:30:00  \n",
      " Block                | 043XX S WOOD ST      \n",
      " IUCR                 | 0486                 \n",
      " Primary Type         | BATTERY              \n",
      " Description          | DOMESTIC BATTERY ... \n",
      " Location Description | RESIDENCE            \n",
      " Arrest               | false                \n",
      " Domestic             | true                 \n",
      " Beat                 | 0924                 \n",
      " District             | 009                  \n",
      " Ward                 | 12                   \n",
      " Community Area       | 61                   \n",
      " FBI Code             | 08B                  \n",
      " X Coordinate         | 1165074              \n",
      " Y Coordinate         | 1875917              \n",
      " Year                 | 2015                 \n",
      " Updated On           | 02/10/2018 03:50:... \n",
      " Latitude             | 41.815117282         \n",
      " Longitude            | -87.669999562        \n",
      " Location             | (41.815117282, -8... \n",
      "-RECORD 1------------------------------------\n",
      " ID                   | 10224739             \n",
      " Case Number          | HY411615             \n",
      " Date                 | 2015-09-04 11:30:00  \n",
      " Block                | 008XX N CENTRAL AVE  \n",
      " IUCR                 | 0870                 \n",
      " Primary Type         | THEFT                \n",
      " Description          | POCKET-PICKING       \n",
      " Location Description | CTA BUS              \n",
      " Arrest               | false                \n",
      " Domestic             | false                \n",
      " Beat                 | 1511                 \n",
      " District             | 015                  \n",
      " Ward                 | 29                   \n",
      " Community Area       | 25                   \n",
      " FBI Code             | 06                   \n",
      " X Coordinate         | 1138875              \n",
      " Y Coordinate         | 1904869              \n",
      " Year                 | 2015                 \n",
      " Updated On           | 02/10/2018 03:50:... \n",
      " Latitude             | 41.895080471         \n",
      " Longitude            | -87.765400451        \n",
      " Location             | (41.895080471, -8... \n",
      "-RECORD 2------------------------------------\n",
      " ID                   | 11646166             \n",
      " Case Number          | JC213529             \n",
      " Date                 | 2018-09-01 00:01:00  \n",
      " Block                | 082XX S INGLESIDE... \n",
      " IUCR                 | 0810                 \n",
      " Primary Type         | THEFT                \n",
      " Description          | OVER $500            \n",
      " Location Description | RESIDENCE            \n",
      " Arrest               | false                \n",
      " Domestic             | true                 \n",
      " Beat                 | 0631                 \n",
      " District             | 006                  \n",
      " Ward                 | 8                    \n",
      " Community Area       | 44                   \n",
      " FBI Code             | 06                   \n",
      " X Coordinate         | null                 \n",
      " Y Coordinate         | null                 \n",
      " Year                 | 2018                 \n",
      " Updated On           | 04/06/2019 04:04:... \n",
      " Latitude             | null                 \n",
      " Longitude            | null                 \n",
      " Location             | null                 \n",
      "-RECORD 3------------------------------------\n",
      " ID                   | 10224740             \n",
      " Case Number          | HY411595             \n",
      " Date                 | 2015-09-05 12:45:00  \n",
      " Block                | 035XX W BARRY AVE    \n",
      " IUCR                 | 2023                 \n",
      " Primary Type         | NARCOTICS            \n",
      " Description          | POSS: HEROIN(BRN/... \n",
      " Location Description | SIDEWALK             \n",
      " Arrest               | true                 \n",
      " Domestic             | false                \n",
      " Beat                 | 1412                 \n",
      " District             | 014                  \n",
      " Ward                 | 35                   \n",
      " Community Area       | 21                   \n",
      " FBI Code             | 18                   \n",
      " X Coordinate         | 1152037              \n",
      " Y Coordinate         | 1920384              \n",
      " Year                 | 2015                 \n",
      " Updated On           | 02/10/2018 03:50:... \n",
      " Latitude             | 41.937405765         \n",
      " Longitude            | -87.716649687        \n",
      " Location             | (41.937405765, -8... \n",
      "-RECORD 4------------------------------------\n",
      " ID                   | 10224741             \n",
      " Case Number          | HY411610             \n",
      " Date                 | 2015-09-05 13:00:00  \n",
      " Block                | 0000X N LARAMIE AVE  \n",
      " IUCR                 | 0560                 \n",
      " Primary Type         | ASSAULT              \n",
      " Description          | SIMPLE               \n",
      " Location Description | APARTMENT            \n",
      " Arrest               | false                \n",
      " Domestic             | true                 \n",
      " Beat                 | 1522                 \n",
      " District             | 015                  \n",
      " Ward                 | 28                   \n",
      " Community Area       | 25                   \n",
      " FBI Code             | 08A                  \n",
      " X Coordinate         | 1141706              \n",
      " Y Coordinate         | 1900086              \n",
      " Year                 | 2015                 \n",
      " Updated On           | 02/10/2018 03:50:... \n",
      " Latitude             | 41.881903443         \n",
      " Longitude            | -87.755121152        \n",
      " Location             | (41.881903443, -8... \n",
      "only showing top 5 rows\n",
      "\n"
     ]
    }
   ],
   "source": [
    "from pyspark.sql.functions import to_timestamp,col,lit\n",
    "rc = spark.read.csv('../../reported-crimes.csv',header=True).withColumn('Date',to_timestamp(col('Date'),'MM/dd/yyyy hh:mm:ss a')).filter(col('Date') <= lit('2018-11-11'))\n",
    "rc.show(5, vertical=True)"
   ]
  },
  {
   "cell_type": "markdown",
   "metadata": {
    "colab_type": "text",
    "id": "mI_zYOVpf2yK"
   },
   "source": [
    "## Challenge questions"
   ]
  },
  {
   "cell_type": "markdown",
   "metadata": {
    "colab_type": "text",
    "id": "WvOfJmzhf0kG"
   },
   "source": [
    "**What is the most frequently reported non-criminal activity?**"
   ]
  },
  {
   "cell_type": "code",
   "execution_count": 14,
   "metadata": {},
   "outputs": [
    {
     "name": "stdout",
     "output_type": "stream",
     "text": [
      "root\n",
      " |-- ID: string (nullable = true)\n",
      " |-- Case Number: string (nullable = true)\n",
      " |-- Date: timestamp (nullable = true)\n",
      " |-- Block: string (nullable = true)\n",
      " |-- IUCR: string (nullable = true)\n",
      " |-- Primary Type: string (nullable = true)\n",
      " |-- Description: string (nullable = true)\n",
      " |-- Location Description: string (nullable = true)\n",
      " |-- Arrest: string (nullable = true)\n",
      " |-- Domestic: string (nullable = true)\n",
      " |-- Beat: string (nullable = true)\n",
      " |-- District: string (nullable = true)\n",
      " |-- Ward: string (nullable = true)\n",
      " |-- Community Area: string (nullable = true)\n",
      " |-- FBI Code: string (nullable = true)\n",
      " |-- X Coordinate: string (nullable = true)\n",
      " |-- Y Coordinate: string (nullable = true)\n",
      " |-- Year: string (nullable = true)\n",
      " |-- Updated On: string (nullable = true)\n",
      " |-- Latitude: string (nullable = true)\n",
      " |-- Longitude: string (nullable = true)\n",
      " |-- Location: string (nullable = true)\n",
      "\n"
     ]
    }
   ],
   "source": [
    "rc.printSchema()"
   ]
  },
  {
   "cell_type": "code",
   "execution_count": 22,
   "metadata": {},
   "outputs": [
    {
     "data": {
      "text/plain": [
       "36"
      ]
     },
     "execution_count": 22,
     "metadata": {},
     "output_type": "execute_result"
    }
   ],
   "source": [
    "rc.select(\"Primary Type\").distinct().count()"
   ]
  },
  {
   "cell_type": "code",
   "execution_count": 25,
   "metadata": {},
   "outputs": [
    {
     "name": "stdout",
     "output_type": "stream",
     "text": [
      "+---------------------------------+\n",
      "|Primary Type                     |\n",
      "+---------------------------------+\n",
      "|ARSON                            |\n",
      "|ASSAULT                          |\n",
      "|BATTERY                          |\n",
      "|BURGLARY                         |\n",
      "|CONCEALED CARRY LICENSE VIOLATION|\n",
      "|CRIM SEXUAL ASSAULT              |\n",
      "|CRIMINAL DAMAGE                  |\n",
      "|CRIMINAL SEXUAL ASSAULT          |\n",
      "|CRIMINAL TRESPASS                |\n",
      "|DECEPTIVE PRACTICE               |\n",
      "|DOMESTIC VIOLENCE                |\n",
      "|GAMBLING                         |\n",
      "|HOMICIDE                         |\n",
      "|HUMAN TRAFFICKING                |\n",
      "|INTERFERENCE WITH PUBLIC OFFICER |\n",
      "|INTIMIDATION                     |\n",
      "|KIDNAPPING                       |\n",
      "|LIQUOR LAW VIOLATION             |\n",
      "|MOTOR VEHICLE THEFT              |\n",
      "|NARCOTICS                        |\n",
      "|NON - CRIMINAL                   |\n",
      "|NON-CRIMINAL                     |\n",
      "|NON-CRIMINAL (SUBJECT SPECIFIED) |\n",
      "|OBSCENITY                        |\n",
      "|OFFENSE INVOLVING CHILDREN       |\n",
      "|OTHER NARCOTIC VIOLATION         |\n",
      "|OTHER OFFENSE                    |\n",
      "|PROSTITUTION                     |\n",
      "|PUBLIC INDECENCY                 |\n",
      "|PUBLIC PEACE VIOLATION           |\n",
      "|RITUALISM                        |\n",
      "|ROBBERY                          |\n",
      "|SEX OFFENSE                      |\n",
      "|STALKING                         |\n",
      "|THEFT                            |\n",
      "|WEAPONS VIOLATION                |\n",
      "+---------------------------------+\n",
      "\n"
     ]
    }
   ],
   "source": [
    "rc.select(\"Primary Type\").distinct().orderBy(\"Primary Type\").show(36, truncate=False)"
   ]
  },
  {
   "cell_type": "code",
   "execution_count": null,
   "metadata": {},
   "outputs": [],
   "source": []
  },
  {
   "cell_type": "code",
   "execution_count": 33,
   "metadata": {},
   "outputs": [
    {
     "name": "stdout",
     "output_type": "stream",
     "text": [
      "-RECORD 0------------------------------------\n",
      " ID                   | 10233370             \n",
      " Case Number          | HY421530             \n",
      " Date                 | 2015-09-13 10:45:00  \n",
      " Block                | 010XX S MENARD AVE   \n",
      " IUCR                 | 5114                 \n",
      " Primary Type         | NON - CRIMINAL       \n",
      " Description          | FOID - REVOCATION    \n",
      " Location Description | RESIDENCE            \n",
      " Arrest               | true                 \n",
      " Domestic             | false                \n",
      " Beat                 | 1513                 \n",
      " District             | 015                  \n",
      " Ward                 | 29                   \n",
      " Community Area       | 25                   \n",
      " FBI Code             | 26                   \n",
      " X Coordinate         | 1137869              \n",
      " Y Coordinate         | 1895239              \n",
      " Year                 | 2015                 \n",
      " Updated On           | 02/10/2018 03:50:... \n",
      " Latitude             | 41.868672696         \n",
      " Longitude            | -87.769327726        \n",
      " Location             | (41.868672696, -8... \n",
      "-RECORD 1------------------------------------\n",
      " ID                   | 10241515             \n",
      " Case Number          | HY429346             \n",
      " Date                 | 2015-09-19 07:45:00  \n",
      " Block                | 051XX N MILWAUKEE... \n",
      " IUCR                 | 5114                 \n",
      " Primary Type         | NON - CRIMINAL       \n",
      " Description          | FOID - REVOCATION    \n",
      " Location Description | POLICE FACILITY/V... \n",
      " Arrest               | true                 \n",
      " Domestic             | false                \n",
      " Beat                 | 1623                 \n",
      " District             | 016                  \n",
      " Ward                 | 45                   \n",
      " Community Area       | 11                   \n",
      " FBI Code             | 26                   \n",
      " X Coordinate         | 1138424              \n",
      " Y Coordinate         | 1933673              \n",
      " Year                 | 2015                 \n",
      " Updated On           | 02/10/2018 03:50:... \n",
      " Latitude             | 41.974129858         \n",
      " Longitude            | -87.766357256        \n",
      " Location             | (41.974129858, -8... \n",
      "-RECORD 2------------------------------------\n",
      " ID                   | 10277370             \n",
      " Case Number          | HY465290             \n",
      " Date                 | 2015-10-16 20:00:00  \n",
      " Block                | 100XX W OHARE ST     \n",
      " IUCR                 | 5093                 \n",
      " Primary Type         | NON-CRIMINAL         \n",
      " Description          | LOST PASSPORT        \n",
      " Location Description | AIRCRAFT             \n",
      " Arrest               | false                \n",
      " Domestic             | false                \n",
      " Beat                 | 1651                 \n",
      " District             | 016                  \n",
      " Ward                 | 41                   \n",
      " Community Area       | 76                   \n",
      " FBI Code             | 26                   \n",
      " X Coordinate         | 1100658              \n",
      " Y Coordinate         | 1934241              \n",
      " Year                 | 2015                 \n",
      " Updated On           | 02/10/2018 03:50:... \n",
      " Latitude             | 41.976290414         \n",
      " Longitude            | -87.905227221        \n",
      " Location             | (41.976290414, -8... \n",
      "-RECORD 3------------------------------------\n",
      " ID                   | 10280097             \n",
      " Case Number          | HY468448             \n",
      " Date                 | 2015-10-19 18:50:00  \n",
      " Block                | 033XX W OGDEN AVE    \n",
      " IUCR                 | 5114                 \n",
      " Primary Type         | NON - CRIMINAL       \n",
      " Description          | FOID - REVOCATION    \n",
      " Location Description | POLICE FACILITY/V... \n",
      " Arrest               | false                \n",
      " Domestic             | false                \n",
      " Beat                 | 1024                 \n",
      " District             | 010                  \n",
      " Ward                 | 24                   \n",
      " Community Area       | 29                   \n",
      " FBI Code             | 26                   \n",
      " X Coordinate         | 1154489              \n",
      " Y Coordinate         | 1891024              \n",
      " Year                 | 2015                 \n",
      " Updated On           | 02/10/2018 03:50:... \n",
      " Latitude             | 41.856790413         \n",
      " Longitude            | -87.708424071        \n",
      " Location             | (41.856790413, -8... \n",
      "-RECORD 4------------------------------------\n",
      " ID                   | 10290745             \n",
      " Case Number          | HY478502             \n",
      " Date                 | 2015-10-26 16:00:00  \n",
      " Block                | 004XX W DIVERSEY ... \n",
      " IUCR                 | 5093                 \n",
      " Primary Type         | NON-CRIMINAL         \n",
      " Description          | LOST PASSPORT        \n",
      " Location Description | SIDEWALK             \n",
      " Arrest               | false                \n",
      " Domestic             | false                \n",
      " Beat                 | 1934                 \n",
      " District             | 019                  \n",
      " Ward                 | 44                   \n",
      " Community Area       | 6                    \n",
      " FBI Code             | 26                   \n",
      " X Coordinate         | 1172533              \n",
      " Y Coordinate         | 1918887              \n",
      " Year                 | 2015                 \n",
      " Updated On           | 02/10/2018 03:50:... \n",
      " Latitude             | 41.932868651         \n",
      " Longitude            | -87.641368196        \n",
      " Location             | (41.932868651, -8... \n",
      "only showing top 5 rows\n",
      "\n"
     ]
    }
   ],
   "source": [
    "nc = rc.filter( (col(\"Primary Type\") == \"NON - CRIMINAL\")  | (col(\"Primary Type\") == \"NON-CRIMINAL\") | (col(\"Primary Type\") == \"NON-CRIMINAL (SUBJECT SPECIFIED)\"))\n",
    "\n",
    "nc.show(5, vertical=True)\n",
    "\n"
   ]
  },
  {
   "cell_type": "code",
   "execution_count": 34,
   "metadata": {
    "colab": {},
    "colab_type": "code",
    "id": "PeeOFy5cgDRq"
   },
   "outputs": [
    {
     "name": "stdout",
     "output_type": "stream",
     "text": [
      "+--------------------+-----+\n",
      "|         Description|count|\n",
      "+--------------------+-----+\n",
      "|       LOST PASSPORT|   81|\n",
      "|   FOID - REVOCATION|   50|\n",
      "|NOTIFICATION OF C...|    6|\n",
      "|NOTIFICATION OF S...|    6|\n",
      "|CONCEALED CARRY L...|    4|\n",
      "|      FOUND PASSPORT|    2|\n",
      "|GUN OFFENDER NOTI...|    1|\n",
      "+--------------------+-----+\n",
      "\n"
     ]
    }
   ],
   "source": [
    "nc.groupBy(\"Description\").count().orderBy(\"count\", ascending=False).show(30)\n",
    "\n"
   ]
  },
  {
   "cell_type": "code",
   "execution_count": null,
   "metadata": {
    "colab": {},
    "colab_type": "code",
    "id": "qLS_NEpEgDBJ"
   },
   "outputs": [],
   "source": []
  },
  {
   "cell_type": "code",
   "execution_count": null,
   "metadata": {
    "colab": {},
    "colab_type": "code",
    "id": "E7NuMVpygC2h"
   },
   "outputs": [],
   "source": []
  },
  {
   "cell_type": "code",
   "execution_count": null,
   "metadata": {
    "colab": {},
    "colab_type": "code",
    "id": "5uC0WTu8KI59"
   },
   "outputs": [],
   "source": []
  },
  {
   "cell_type": "code",
   "execution_count": null,
   "metadata": {
    "colab": {},
    "colab_type": "code",
    "id": "AHOdjsiBKI0W"
   },
   "outputs": [],
   "source": []
  },
  {
   "cell_type": "code",
   "execution_count": null,
   "metadata": {
    "colab": {},
    "colab_type": "code",
    "id": "e5J1WQkBKIuN"
   },
   "outputs": [],
   "source": []
  },
  {
   "cell_type": "code",
   "execution_count": null,
   "metadata": {
    "colab": {},
    "colab_type": "code",
    "id": "Sx76PSOIKImG"
   },
   "outputs": [],
   "source": []
  },
  {
   "cell_type": "markdown",
   "metadata": {
    "colab_type": "text",
    "id": "A4u5vp73gEtB"
   },
   "source": [
    "**Using a bar chart, plot which day of the week has the most number of reported crime. \n",
    "**"
   ]
  },
  {
   "cell_type": "code",
   "execution_count": 20,
   "metadata": {},
   "outputs": [],
   "source": [
    "from pyspark.sql.functions import dayofweek"
   ]
  },
  {
   "cell_type": "code",
   "execution_count": 36,
   "metadata": {},
   "outputs": [],
   "source": [
    "from pyspark.sql.functions import date_format"
   ]
  },
  {
   "cell_type": "code",
   "execution_count": 37,
   "metadata": {},
   "outputs": [
    {
     "name": "stdout",
     "output_type": "stream",
     "text": [
      "+-------------------+---------------+--------------------+\n",
      "|               Date|dayofweek(Date)|date_format(Date, E)|\n",
      "+-------------------+---------------+--------------------+\n",
      "|2015-09-05 13:30:00|              7|                 Sat|\n",
      "|2015-09-04 11:30:00|              6|                 Fri|\n",
      "|2018-09-01 00:01:00|              7|                 Sat|\n",
      "|2015-09-05 12:45:00|              7|                 Sat|\n",
      "+-------------------+---------------+--------------------+\n",
      "only showing top 4 rows\n",
      "\n"
     ]
    }
   ],
   "source": [
    "rc.select(\"Date\", dayofweek(\"Date\"), date_format(\"Date\", \"E\")).show(4)"
   ]
  },
  {
   "cell_type": "code",
   "execution_count": 40,
   "metadata": {
    "colab": {},
    "colab_type": "code",
    "id": "ugRDxNwNgHNa",
    "scrolled": false
   },
   "outputs": [
    {
     "name": "stdout",
     "output_type": "stream",
     "text": [
      "+--------------------+------+\n",
      "|date_format(Date, E)| count|\n",
      "+--------------------+------+\n",
      "|                 Fri|288101|\n",
      "|                 Sat|277152|\n",
      "|                 Mon|274103|\n",
      "|                 Wed|273954|\n",
      "|                 Tue|273694|\n",
      "|                 Thu|273399|\n",
      "|                 Sun|261645|\n",
      "+--------------------+------+\n",
      "\n"
     ]
    }
   ],
   "source": [
    "rc.groupBy(date_format(\"Date\", \"E\")).count().orderBy(\"count\", ascending=False).show(7, vertical=False)"
   ]
  },
  {
   "cell_type": "code",
   "execution_count": 41,
   "metadata": {
    "colab": {},
    "colab_type": "code",
    "id": "T6w6-fN9gG_7"
   },
   "outputs": [
    {
     "data": {
      "text/plain": [
       "[Row(date_format(Date, E)='Sun', count=261645),\n",
       " Row(date_format(Date, E)='Mon', count=274103),\n",
       " Row(date_format(Date, E)='Thu', count=273399),\n",
       " Row(date_format(Date, E)='Sat', count=277152),\n",
       " Row(date_format(Date, E)='Wed', count=273954),\n",
       " Row(date_format(Date, E)='Fri', count=288101),\n",
       " Row(date_format(Date, E)='Tue', count=273694)]"
      ]
     },
     "execution_count": 41,
     "metadata": {},
     "output_type": "execute_result"
    }
   ],
   "source": [
    "rc.groupBy(date_format(\"Date\", \"E\")).count().collect()"
   ]
  },
  {
   "cell_type": "code",
   "execution_count": 42,
   "metadata": {
    "colab": {},
    "colab_type": "code",
    "id": "JkUF4yJFgG25"
   },
   "outputs": [],
   "source": [
    "day_of_week = [x[0] for x in rc.groupBy(date_format(\"Date\", \"E\")).count().collect()]"
   ]
  },
  {
   "cell_type": "code",
   "execution_count": 43,
   "metadata": {
    "colab": {},
    "colab_type": "code",
    "id": "o3IB6VxLgGYi"
   },
   "outputs": [
    {
     "data": {
      "text/plain": [
       "['Sun', 'Mon', 'Thu', 'Sat', 'Wed', 'Fri', 'Tue']"
      ]
     },
     "execution_count": 43,
     "metadata": {},
     "output_type": "execute_result"
    }
   ],
   "source": [
    "day_of_week"
   ]
  },
  {
   "cell_type": "code",
   "execution_count": 44,
   "metadata": {
    "colab": {},
    "colab_type": "code",
    "id": "bSxKI4ePKJ5j"
   },
   "outputs": [],
   "source": [
    "count = [x[1] for x in rc.groupBy(date_format(\"Date\", \"E\")).count().collect()]"
   ]
  },
  {
   "cell_type": "code",
   "execution_count": 45,
   "metadata": {
    "colab": {},
    "colab_type": "code",
    "id": "j_iQqpL1KJ2d"
   },
   "outputs": [
    {
     "data": {
      "text/plain": [
       "[261645, 274103, 273399, 277152, 273954, 288101, 273694]"
      ]
     },
     "execution_count": 45,
     "metadata": {},
     "output_type": "execute_result"
    }
   ],
   "source": [
    "count"
   ]
  },
  {
   "cell_type": "code",
   "execution_count": 46,
   "metadata": {
    "colab": {},
    "colab_type": "code",
    "id": "GbcSuGRpKJzq"
   },
   "outputs": [],
   "source": [
    "import pandas as pd"
   ]
  },
  {
   "cell_type": "code",
   "execution_count": 47,
   "metadata": {
    "colab": {},
    "colab_type": "code",
    "id": "h95xRmYbKJxE"
   },
   "outputs": [],
   "source": [
    "df = pd.DataFrame({\"day of week\" : day_of_week, \"count\" : count})"
   ]
  },
  {
   "cell_type": "code",
   "execution_count": 57,
   "metadata": {},
   "outputs": [
    {
     "data": {
      "text/html": [
       "<div>\n",
       "<style scoped>\n",
       "    .dataframe tbody tr th:only-of-type {\n",
       "        vertical-align: middle;\n",
       "    }\n",
       "\n",
       "    .dataframe tbody tr th {\n",
       "        vertical-align: top;\n",
       "    }\n",
       "\n",
       "    .dataframe thead th {\n",
       "        text-align: right;\n",
       "    }\n",
       "</style>\n",
       "<table border=\"1\" class=\"dataframe\">\n",
       "  <thead>\n",
       "    <tr style=\"text-align: right;\">\n",
       "      <th></th>\n",
       "      <th>day of week</th>\n",
       "      <th>count</th>\n",
       "    </tr>\n",
       "  </thead>\n",
       "  <tbody>\n",
       "    <tr>\n",
       "      <th>0</th>\n",
       "      <td>Sun</td>\n",
       "      <td>261645</td>\n",
       "    </tr>\n",
       "    <tr>\n",
       "      <th>1</th>\n",
       "      <td>Mon</td>\n",
       "      <td>274103</td>\n",
       "    </tr>\n",
       "    <tr>\n",
       "      <th>2</th>\n",
       "      <td>Thu</td>\n",
       "      <td>273399</td>\n",
       "    </tr>\n",
       "    <tr>\n",
       "      <th>3</th>\n",
       "      <td>Sat</td>\n",
       "      <td>277152</td>\n",
       "    </tr>\n",
       "    <tr>\n",
       "      <th>4</th>\n",
       "      <td>Wed</td>\n",
       "      <td>273954</td>\n",
       "    </tr>\n",
       "    <tr>\n",
       "      <th>5</th>\n",
       "      <td>Fri</td>\n",
       "      <td>288101</td>\n",
       "    </tr>\n",
       "    <tr>\n",
       "      <th>6</th>\n",
       "      <td>Tue</td>\n",
       "      <td>273694</td>\n",
       "    </tr>\n",
       "  </tbody>\n",
       "</table>\n",
       "</div>"
      ],
      "text/plain": [
       "  day of week   count\n",
       "0         Sun  261645\n",
       "1         Mon  274103\n",
       "2         Thu  273399\n",
       "3         Sat  277152\n",
       "4         Wed  273954\n",
       "5         Fri  288101\n",
       "6         Tue  273694"
      ]
     },
     "execution_count": 57,
     "metadata": {},
     "output_type": "execute_result"
    }
   ],
   "source": [
    "df"
   ]
  },
  {
   "cell_type": "code",
   "execution_count": 60,
   "metadata": {},
   "outputs": [
    {
     "data": {
      "text/plain": [
       "<AxesSubplot:ylabel='day of week'>"
      ]
     },
     "execution_count": 60,
     "metadata": {},
     "output_type": "execute_result"
    },
    {
     "data": {
      "image/png": "[encoded data removed]",
      "text/plain": [
       "<Figure size 432x288 with 1 Axes>"
      ]
     },
     "metadata": {
      "needs_background": "light"
     },
     "output_type": "display_data"
    }
   ],
   "source": [
    "df.sort_values(\"count\").plot.barh(x=\"day of week\", y = \"count\")"
   ]
  },
  {
   "cell_type": "code",
   "execution_count": null,
   "metadata": {},
   "outputs": [],
   "source": []
  }
 ],
 "metadata": {
  "colab": {
   "name": "Challenge.ipynb",
   "provenance": [],
   "version": "0.3.2"
  },
  "kernelspec": {
   "display_name": "Python 3",
   "language": "python",
   "name": "python3"
  },
  "language_info": {
   "codemirror_mode": {
    "name": "ipython",
    "version": 3
   },
   "file_extension": ".py",
   "mimetype": "text/x-python",
   "name": "python",
   "nbconvert_exporter": "python",
   "pygments_lexer": "ipython3",
   "version": "3.8.6"
  }
 },
 "nbformat": 4,
 "nbformat_minor": 2
}
